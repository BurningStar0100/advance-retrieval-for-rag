{
 "cells": [
  {
   "cell_type": "markdown",
   "id": "93075c79-81cf-42ec-9931-12443efaaf4b",
   "metadata": {},
   "source": [
    "# Embedding Adaptors"
   ]
  },
  {
   "cell_type": "code",
   "execution_count": 1,
   "id": "5a5536f0-651c-40e7-aa15-27ee0cda80b7",
   "metadata": {
    "height": 147
   },
   "outputs": [],
   "source": [
    "from helper_utils import load_chroma, word_wrap, project_embeddings\n",
    "from chromadb.utils.embedding_functions import SentenceTransformerEmbeddingFunction\n",
    "import numpy as np\n",
    "import umap\n",
    "from tqdm import tqdm\n",
    "\n",
    "import torch"
   ]
  },
  {
   "cell_type": "code",
   "execution_count": 2,
   "id": "3748b16d-d4a7-49c3-a48a-57dcfc42acd6",
   "metadata": {
    "height": 96
   },
   "outputs": [
    {
     "data": {
      "application/vnd.jupyter.widget-view+json": {
       "model_id": "c53ee60a5e70409baac9778576941f37",
       "version_major": 2,
       "version_minor": 0
      },
      "text/plain": [
       ".gitattributes: 0.00B [00:00, ?B/s]"
      ]
     },
     "metadata": {},
     "output_type": "display_data"
    },
    {
     "data": {
      "application/vnd.jupyter.widget-view+json": {
       "model_id": "565eec145d3549d8996170b1b9897035",
       "version_major": 2,
       "version_minor": 0
      },
      "text/plain": [
       "config.json:   0%|          | 0.00/190 [00:00<?, ?B/s]"
      ]
     },
     "metadata": {},
     "output_type": "display_data"
    },
    {
     "data": {
      "application/vnd.jupyter.widget-view+json": {
       "model_id": "cfd1155833e243a784658bda1233dd12",
       "version_major": 2,
       "version_minor": 0
      },
      "text/plain": [
       "README.md: 0.00B [00:00, ?B/s]"
      ]
     },
     "metadata": {},
     "output_type": "display_data"
    },
    {
     "data": {
      "application/vnd.jupyter.widget-view+json": {
       "model_id": "e6e8adf740cf4eb8adea60806a2a8cf0",
       "version_major": 2,
       "version_minor": 0
      },
      "text/plain": [
       "config.json:   0%|          | 0.00/612 [00:00<?, ?B/s]"
      ]
     },
     "metadata": {},
     "output_type": "display_data"
    },
    {
     "data": {
      "application/vnd.jupyter.widget-view+json": {
       "model_id": "9d50a51f388c4527a202a2126c9fd62e",
       "version_major": 2,
       "version_minor": 0
      },
      "text/plain": [
       "config_sentence_transformers.json:   0%|          | 0.00/116 [00:00<?, ?B/s]"
      ]
     },
     "metadata": {},
     "output_type": "display_data"
    },
    {
     "data": {
      "application/vnd.jupyter.widget-view+json": {
       "model_id": "81d36aade2034b13a4b9bac7379e1b4e",
       "version_major": 2,
       "version_minor": 0
      },
      "text/plain": [
       "data_config.json: 0.00B [00:00, ?B/s]"
      ]
     },
     "metadata": {},
     "output_type": "display_data"
    },
    {
     "data": {
      "application/vnd.jupyter.widget-view+json": {
       "model_id": "8d2f791c05cb47c69cfcd801ac77c7c8",
       "version_major": 2,
       "version_minor": 0
      },
      "text/plain": [
       "model.safetensors:   0%|          | 0.00/90.9M [00:00<?, ?B/s]"
      ]
     },
     "metadata": {},
     "output_type": "display_data"
    },
    {
     "data": {
      "application/vnd.jupyter.widget-view+json": {
       "model_id": "52ef32fda8fc4a559091e17e482652d5",
       "version_major": 2,
       "version_minor": 0
      },
      "text/plain": [
       "model.onnx:   0%|          | 0.00/90.4M [00:00<?, ?B/s]"
      ]
     },
     "metadata": {},
     "output_type": "display_data"
    },
    {
     "data": {
      "application/vnd.jupyter.widget-view+json": {
       "model_id": "f5b2e611e60e4b00826fa82a995db251",
       "version_major": 2,
       "version_minor": 0
      },
      "text/plain": [
       "model_O1.onnx:   0%|          | 0.00/90.4M [00:00<?, ?B/s]"
      ]
     },
     "metadata": {},
     "output_type": "display_data"
    },
    {
     "data": {
      "application/vnd.jupyter.widget-view+json": {
       "model_id": "0f3755f96df8483190bc9aacbe4e67d6",
       "version_major": 2,
       "version_minor": 0
      },
      "text/plain": [
       "model_O2.onnx:   0%|          | 0.00/90.3M [00:00<?, ?B/s]"
      ]
     },
     "metadata": {},
     "output_type": "display_data"
    },
    {
     "data": {
      "application/vnd.jupyter.widget-view+json": {
       "model_id": "8565e93b178e47439e55a67650291880",
       "version_major": 2,
       "version_minor": 0
      },
      "text/plain": [
       "model_O3.onnx:   0%|          | 0.00/90.3M [00:00<?, ?B/s]"
      ]
     },
     "metadata": {},
     "output_type": "display_data"
    },
    {
     "data": {
      "application/vnd.jupyter.widget-view+json": {
       "model_id": "272d127f52c04b80b8f503ff50ad8245",
       "version_major": 2,
       "version_minor": 0
      },
      "text/plain": [
       "model_O4.onnx:   0%|          | 0.00/45.2M [00:00<?, ?B/s]"
      ]
     },
     "metadata": {},
     "output_type": "display_data"
    },
    {
     "data": {
      "application/vnd.jupyter.widget-view+json": {
       "model_id": "36be25193d9f40c595ec0967647bee9d",
       "version_major": 2,
       "version_minor": 0
      },
      "text/plain": [
       "model_qint8_arm64.onnx:   0%|          | 0.00/23.0M [00:00<?, ?B/s]"
      ]
     },
     "metadata": {},
     "output_type": "display_data"
    },
    {
     "data": {
      "application/vnd.jupyter.widget-view+json": {
       "model_id": "84e253cad9e14e0f8657a272cf960d0e",
       "version_major": 2,
       "version_minor": 0
      },
      "text/plain": [
       "model_qint8_avx512.onnx:   0%|          | 0.00/23.0M [00:00<?, ?B/s]"
      ]
     },
     "metadata": {},
     "output_type": "display_data"
    },
    {
     "data": {
      "application/vnd.jupyter.widget-view+json": {
       "model_id": "0bd0f7296ad74a3e889d9917019f95b1",
       "version_major": 2,
       "version_minor": 0
      },
      "text/plain": [
       "model_qint8_avx512_vnni.onnx:   0%|          | 0.00/23.0M [00:00<?, ?B/s]"
      ]
     },
     "metadata": {},
     "output_type": "display_data"
    },
    {
     "data": {
      "application/vnd.jupyter.widget-view+json": {
       "model_id": "8e20ac33dbfa4022ab41fa6c640dd340",
       "version_major": 2,
       "version_minor": 0
      },
      "text/plain": [
       "model_quint8_avx2.onnx:   0%|          | 0.00/23.0M [00:00<?, ?B/s]"
      ]
     },
     "metadata": {},
     "output_type": "display_data"
    },
    {
     "data": {
      "application/vnd.jupyter.widget-view+json": {
       "model_id": "21b74cc2bdc849d48d5efc418d1ec177",
       "version_major": 2,
       "version_minor": 0
      },
      "text/plain": [
       "openvino_model.bin:   0%|          | 0.00/90.3M [00:00<?, ?B/s]"
      ]
     },
     "metadata": {},
     "output_type": "display_data"
    },
    {
     "data": {
      "application/vnd.jupyter.widget-view+json": {
       "model_id": "3982237492d84e5884892d81407d4134",
       "version_major": 2,
       "version_minor": 0
      },
      "text/plain": [
       "openvino_model.xml: 0.00B [00:00, ?B/s]"
      ]
     },
     "metadata": {},
     "output_type": "display_data"
    },
    {
     "data": {
      "application/vnd.jupyter.widget-view+json": {
       "model_id": "6fdb8e529a584e87b3305d1319fab0ec",
       "version_major": 2,
       "version_minor": 0
      },
      "text/plain": [
       "openvino_model_qint8_quantized.bin:   0%|          | 0.00/22.9M [00:00<?, ?B/s]"
      ]
     },
     "metadata": {},
     "output_type": "display_data"
    },
    {
     "data": {
      "application/vnd.jupyter.widget-view+json": {
       "model_id": "a3abc03de9db413aacf0e11a3405074d",
       "version_major": 2,
       "version_minor": 0
      },
      "text/plain": [
       "openvino_model_qint8_quantized.xml: 0.00B [00:00, ?B/s]"
      ]
     },
     "metadata": {},
     "output_type": "display_data"
    },
    {
     "data": {
      "application/vnd.jupyter.widget-view+json": {
       "model_id": "a724693339974e6b988507da5556a83f",
       "version_major": 2,
       "version_minor": 0
      },
      "text/plain": [
       "pytorch_model.bin:   0%|          | 0.00/90.9M [00:00<?, ?B/s]"
      ]
     },
     "metadata": {},
     "output_type": "display_data"
    },
    {
     "data": {
      "application/vnd.jupyter.widget-view+json": {
       "model_id": "fb7fa249180245f3a4abe555fa178aa4",
       "version_major": 2,
       "version_minor": 0
      },
      "text/plain": [
       "sentence_bert_config.json:   0%|          | 0.00/53.0 [00:00<?, ?B/s]"
      ]
     },
     "metadata": {},
     "output_type": "display_data"
    },
    {
     "data": {
      "application/vnd.jupyter.widget-view+json": {
       "model_id": "c2dc14b392dd47acbc59ea0663b3d8b9",
       "version_major": 2,
       "version_minor": 0
      },
      "text/plain": [
       "special_tokens_map.json:   0%|          | 0.00/112 [00:00<?, ?B/s]"
      ]
     },
     "metadata": {},
     "output_type": "display_data"
    },
    {
     "data": {
      "application/vnd.jupyter.widget-view+json": {
       "model_id": "a32462289e5a4e04bd78867be3c3f824",
       "version_major": 2,
       "version_minor": 0
      },
      "text/plain": [
       "tokenizer.json: 0.00B [00:00, ?B/s]"
      ]
     },
     "metadata": {},
     "output_type": "display_data"
    },
    {
     "data": {
      "application/vnd.jupyter.widget-view+json": {
       "model_id": "8f7aaac51a664be99e6761fdc83cd3fb",
       "version_major": 2,
       "version_minor": 0
      },
      "text/plain": [
       "tokenizer_config.json:   0%|          | 0.00/350 [00:00<?, ?B/s]"
      ]
     },
     "metadata": {},
     "output_type": "display_data"
    },
    {
     "data": {
      "application/vnd.jupyter.widget-view+json": {
       "model_id": "4f58652f18f04b80837b9a4ea35ca7e5",
       "version_major": 2,
       "version_minor": 0
      },
      "text/plain": [
       "train_script.py: 0.00B [00:00, ?B/s]"
      ]
     },
     "metadata": {},
     "output_type": "display_data"
    },
    {
     "data": {
      "application/vnd.jupyter.widget-view+json": {
       "model_id": "ff9c4256495e4c80b2b00d4f5eb27f85",
       "version_major": 2,
       "version_minor": 0
      },
      "text/plain": [
       "vocab.txt: 0.00B [00:00, ?B/s]"
      ]
     },
     "metadata": {},
     "output_type": "display_data"
    },
    {
     "data": {
      "application/vnd.jupyter.widget-view+json": {
       "model_id": "95e02c7b1ca9436482dcdbd215d6f881",
       "version_major": 2,
       "version_minor": 0
      },
      "text/plain": [
       "modules.json:   0%|          | 0.00/349 [00:00<?, ?B/s]"
      ]
     },
     "metadata": {},
     "output_type": "display_data"
    },
    {
     "data": {
      "application/vnd.jupyter.widget-view+json": {
       "model_id": "7336ab0885614e9f8a7e86bc19586a06",
       "version_major": 2,
       "version_minor": 0
      },
      "text/plain": [
       ".gitattributes: 0.00B [00:00, ?B/s]"
      ]
     },
     "metadata": {},
     "output_type": "display_data"
    },
    {
     "data": {
      "application/vnd.jupyter.widget-view+json": {
       "model_id": "61931e4b26744318a69158edd53cdcdb",
       "version_major": 2,
       "version_minor": 0
      },
      "text/plain": [
       "config.json:   0%|          | 0.00/190 [00:00<?, ?B/s]"
      ]
     },
     "metadata": {},
     "output_type": "display_data"
    },
    {
     "data": {
      "application/vnd.jupyter.widget-view+json": {
       "model_id": "30defa43a1ab4122b29019b369f8b93a",
       "version_major": 2,
       "version_minor": 0
      },
      "text/plain": [
       "README.md: 0.00B [00:00, ?B/s]"
      ]
     },
     "metadata": {},
     "output_type": "display_data"
    },
    {
     "data": {
      "application/vnd.jupyter.widget-view+json": {
       "model_id": "0e1bc29e8ed14d228f580d85872fb9b6",
       "version_major": 2,
       "version_minor": 0
      },
      "text/plain": [
       "config.json:   0%|          | 0.00/571 [00:00<?, ?B/s]"
      ]
     },
     "metadata": {},
     "output_type": "display_data"
    },
    {
     "data": {
      "application/vnd.jupyter.widget-view+json": {
       "model_id": "cc1f06eaf267464f86f04006bc10d8cb",
       "version_major": 2,
       "version_minor": 0
      },
      "text/plain": [
       "config_sentence_transformers.json:   0%|          | 0.00/116 [00:00<?, ?B/s]"
      ]
     },
     "metadata": {},
     "output_type": "display_data"
    },
    {
     "data": {
      "application/vnd.jupyter.widget-view+json": {
       "model_id": "98932a4149ac4401b7fe1ab439134078",
       "version_major": 2,
       "version_minor": 0
      },
      "text/plain": [
       "data_config.json: 0.00B [00:00, ?B/s]"
      ]
     },
     "metadata": {},
     "output_type": "display_data"
    },
    {
     "data": {
      "application/vnd.jupyter.widget-view+json": {
       "model_id": "15baaf52d84c46fc8b299c805551d8c9",
       "version_major": 2,
       "version_minor": 0
      },
      "text/plain": [
       "model.safetensors:   0%|          | 0.00/438M [00:00<?, ?B/s]"
      ]
     },
     "metadata": {},
     "output_type": "display_data"
    },
    {
     "data": {
      "application/vnd.jupyter.widget-view+json": {
       "model_id": "3b486575811e421ebea0bb8736c81df1",
       "version_major": 2,
       "version_minor": 0
      },
      "text/plain": [
       "model.onnx:   0%|          | 0.00/436M [00:00<?, ?B/s]"
      ]
     },
     "metadata": {},
     "output_type": "display_data"
    },
    {
     "data": {
      "application/vnd.jupyter.widget-view+json": {
       "model_id": "5c6b1c307dd8457ca6c4939663c6188d",
       "version_major": 2,
       "version_minor": 0
      },
      "text/plain": [
       "model_O1.onnx:   0%|          | 0.00/436M [00:00<?, ?B/s]"
      ]
     },
     "metadata": {},
     "output_type": "display_data"
    },
    {
     "data": {
      "application/vnd.jupyter.widget-view+json": {
       "model_id": "e25583f21f5543018f5e6072c0d976cd",
       "version_major": 2,
       "version_minor": 0
      },
      "text/plain": [
       "model_O2.onnx:   0%|          | 0.00/436M [00:00<?, ?B/s]"
      ]
     },
     "metadata": {},
     "output_type": "display_data"
    },
    {
     "data": {
      "application/vnd.jupyter.widget-view+json": {
       "model_id": "a7e56e4d9fc4499ba42b214add0c0c55",
       "version_major": 2,
       "version_minor": 0
      },
      "text/plain": [
       "model_O3.onnx:   0%|          | 0.00/436M [00:00<?, ?B/s]"
      ]
     },
     "metadata": {},
     "output_type": "display_data"
    },
    {
     "data": {
      "application/vnd.jupyter.widget-view+json": {
       "model_id": "9df2aad35fe6406682e85b7e10fc4f1b",
       "version_major": 2,
       "version_minor": 0
      },
      "text/plain": [
       "model_O4.onnx:   0%|          | 0.00/218M [00:00<?, ?B/s]"
      ]
     },
     "metadata": {},
     "output_type": "display_data"
    },
    {
     "data": {
      "application/vnd.jupyter.widget-view+json": {
       "model_id": "fd8290027e374e38aaab5835b93957b4",
       "version_major": 2,
       "version_minor": 0
      },
      "text/plain": [
       "model_qint8_arm64.onnx:   0%|          | 0.00/110M [00:00<?, ?B/s]"
      ]
     },
     "metadata": {},
     "output_type": "display_data"
    },
    {
     "data": {
      "application/vnd.jupyter.widget-view+json": {
       "model_id": "097750c050de4c5bb45760330f728a69",
       "version_major": 2,
       "version_minor": 0
      },
      "text/plain": [
       "model_qint8_avx512.onnx:   0%|          | 0.00/110M [00:00<?, ?B/s]"
      ]
     },
     "metadata": {},
     "output_type": "display_data"
    },
    {
     "data": {
      "application/vnd.jupyter.widget-view+json": {
       "model_id": "5e7fd880e75a4c6992a61377cd4df5b4",
       "version_major": 2,
       "version_minor": 0
      },
      "text/plain": [
       "model_qint8_avx512_vnni.onnx:   0%|          | 0.00/110M [00:00<?, ?B/s]"
      ]
     },
     "metadata": {},
     "output_type": "display_data"
    },
    {
     "data": {
      "application/vnd.jupyter.widget-view+json": {
       "model_id": "bcc024645c974d3da674aeff21a3b96e",
       "version_major": 2,
       "version_minor": 0
      },
      "text/plain": [
       "model_quint8_avx2.onnx:   0%|          | 0.00/110M [00:00<?, ?B/s]"
      ]
     },
     "metadata": {},
     "output_type": "display_data"
    },
    {
     "data": {
      "application/vnd.jupyter.widget-view+json": {
       "model_id": "606f889470aa416a9efef8979bc8d2fb",
       "version_major": 2,
       "version_minor": 0
      },
      "text/plain": [
       "openvino_model.bin:   0%|          | 0.00/436M [00:00<?, ?B/s]"
      ]
     },
     "metadata": {},
     "output_type": "display_data"
    },
    {
     "data": {
      "application/vnd.jupyter.widget-view+json": {
       "model_id": "c7d4d7252a064150b077baf1016e1503",
       "version_major": 2,
       "version_minor": 0
      },
      "text/plain": [
       "openvino_model.xml: 0.00B [00:00, ?B/s]"
      ]
     },
     "metadata": {},
     "output_type": "display_data"
    },
    {
     "data": {
      "application/vnd.jupyter.widget-view+json": {
       "model_id": "78d984c2ab2144b383875fc46f0aeac3",
       "version_major": 2,
       "version_minor": 0
      },
      "text/plain": [
       "openvino_model_qint8_quantized.bin:   0%|          | 0.00/110M [00:00<?, ?B/s]"
      ]
     },
     "metadata": {},
     "output_type": "display_data"
    },
    {
     "data": {
      "application/vnd.jupyter.widget-view+json": {
       "model_id": "6dc7444743b14448a07ac75477e6e4bf",
       "version_major": 2,
       "version_minor": 0
      },
      "text/plain": [
       "openvino_model_qint8_quantized.xml: 0.00B [00:00, ?B/s]"
      ]
     },
     "metadata": {},
     "output_type": "display_data"
    },
    {
     "data": {
      "application/vnd.jupyter.widget-view+json": {
       "model_id": "3a76a62aaa774c42a15cb436483bbb20",
       "version_major": 2,
       "version_minor": 0
      },
      "text/plain": [
       "pytorch_model.bin:   0%|          | 0.00/438M [00:00<?, ?B/s]"
      ]
     },
     "metadata": {},
     "output_type": "display_data"
    },
    {
     "data": {
      "application/vnd.jupyter.widget-view+json": {
       "model_id": "a4e96f4babd443b388bb1e3addbf02ba",
       "version_major": 2,
       "version_minor": 0
      },
      "text/plain": [
       "sentence_bert_config.json:   0%|          | 0.00/53.0 [00:00<?, ?B/s]"
      ]
     },
     "metadata": {},
     "output_type": "display_data"
    },
    {
     "data": {
      "application/vnd.jupyter.widget-view+json": {
       "model_id": "8b05e27261714f72940f6724f6969ee3",
       "version_major": 2,
       "version_minor": 0
      },
      "text/plain": [
       "special_tokens_map.json:   0%|          | 0.00/239 [00:00<?, ?B/s]"
      ]
     },
     "metadata": {},
     "output_type": "display_data"
    },
    {
     "data": {
      "application/vnd.jupyter.widget-view+json": {
       "model_id": "80f402ad1d7943d4beb7c3bd176b62d4",
       "version_major": 2,
       "version_minor": 0
      },
      "text/plain": [
       "tokenizer.json: 0.00B [00:00, ?B/s]"
      ]
     },
     "metadata": {},
     "output_type": "display_data"
    },
    {
     "data": {
      "application/vnd.jupyter.widget-view+json": {
       "model_id": "89a8a0005453473bb36d3bc972809317",
       "version_major": 2,
       "version_minor": 0
      },
      "text/plain": [
       "tokenizer_config.json:   0%|          | 0.00/363 [00:00<?, ?B/s]"
      ]
     },
     "metadata": {},
     "output_type": "display_data"
    },
    {
     "data": {
      "application/vnd.jupyter.widget-view+json": {
       "model_id": "1782f355b09d4e3ba9a8c08da5b4fbf2",
       "version_major": 2,
       "version_minor": 0
      },
      "text/plain": [
       "train_script.py: 0.00B [00:00, ?B/s]"
      ]
     },
     "metadata": {},
     "output_type": "display_data"
    },
    {
     "data": {
      "application/vnd.jupyter.widget-view+json": {
       "model_id": "f08372266b224dbc8cad277b695b6349",
       "version_major": 2,
       "version_minor": 0
      },
      "text/plain": [
       "vocab.txt: 0.00B [00:00, ?B/s]"
      ]
     },
     "metadata": {},
     "output_type": "display_data"
    },
    {
     "data": {
      "application/vnd.jupyter.widget-view+json": {
       "model_id": "59665f95632946e19fff52f90bb7caed",
       "version_major": 2,
       "version_minor": 0
      },
      "text/plain": [
       "modules.json:   0%|          | 0.00/349 [00:00<?, ?B/s]"
      ]
     },
     "metadata": {},
     "output_type": "display_data"
    },
    {
     "data": {
      "text/plain": [
       "349"
      ]
     },
     "execution_count": 2,
     "metadata": {},
     "output_type": "execute_result"
    }
   ],
   "source": [
    "embedding_function = SentenceTransformerEmbeddingFunction()\n",
    "\n",
    "chroma_collection = load_chroma(filename='microsoft_annual_report_2022.pdf', collection_name='microsoft_annual_report_2022', embedding_function=embedding_function)\n",
    "chroma_collection.count()"
   ]
  },
  {
   "cell_type": "code",
   "execution_count": 3,
   "id": "a338ec83-6301-41a5-9ab1-e5d583306a3f",
   "metadata": {
    "height": 79
   },
   "outputs": [
    {
     "name": "stderr",
     "output_type": "stream",
     "text": [
      "/usr/local/lib/python3.9/site-packages/umap/umap_.py:1943: UserWarning: n_jobs value -1 overridden to 1 by setting random_state. Use no seed for parallelism.\n",
      "  warn(f\"n_jobs value {self.n_jobs} overridden to 1 by setting random_state. Use no seed for parallelism.\")\n",
      "100%|██████████| 349/349 [02:58<00:00,  1.95it/s]\n"
     ]
    }
   ],
   "source": [
    "embeddings = chroma_collection.get(include=['embeddings'])['embeddings']\n",
    "umap_transform = umap.UMAP(random_state=0, transform_seed=0).fit(embeddings)\n",
    "projected_dataset_embeddings = project_embeddings(embeddings, umap_transform)"
   ]
  },
  {
   "cell_type": "code",
   "execution_count": 4,
   "id": "5665c695-22ea-4264-b1ac-5ba720b6d78b",
   "metadata": {
    "height": 166
   },
   "outputs": [],
   "source": [
    "import os\n",
    "import openai\n",
    "from openai import OpenAI\n",
    "\n",
    "from dotenv import load_dotenv, find_dotenv\n",
    "_ = load_dotenv(find_dotenv()) # read local .env file\n",
    "openai.api_key = os.environ['OPENAI_API_KEY']\n",
    "\n",
    "openai_client = OpenAI()"
   ]
  },
  {
   "cell_type": "code",
   "execution_count": null,
   "id": "569b974f",
   "metadata": {
    "height": 30
   },
   "outputs": [],
   "source": []
  },
  {
   "cell_type": "markdown",
   "id": "a34ff415-8d20-4171-9d40-7eb1bbe837a1",
   "metadata": {},
   "source": [
    "## Creating a dataset"
   ]
  },
  {
   "cell_type": "code",
   "execution_count": 5,
   "id": "8ba6c8c5-9ce4-44d0-9223-6fdd77871f87",
   "metadata": {
    "height": 334
   },
   "outputs": [],
   "source": [
    "def generate_queries(model=\"gpt-3.5-turbo\"):\n",
    "    messages = [\n",
    "        {\n",
    "            \"role\": \"system\",\n",
    "            \"content\": \"You are a helpful expert financial research assistant. You help users analyze financial statements to better understand companies. \"\n",
    "            \"Suggest 10 to 15 short questions that are important to ask when analyzing an annual report. \"\n",
    "            \"Do not output any compound questions (questions with multiple sentences or conjunctions).\"\n",
    "            \"Output each question on a separate line divided by a newline.\"\n",
    "        },\n",
    "    ]\n",
    "\n",
    "    response = openai_client.chat.completions.create(\n",
    "        model=model,\n",
    "        messages=messages,\n",
    "    )\n",
    "    content = response.choices[0].message.content\n",
    "    content = content.split(\"\\n\")\n",
    "    return content"
   ]
  },
  {
   "cell_type": "code",
   "execution_count": 6,
   "id": "bfdb54db-a442-423c-b006-c33a257cd7d7",
   "metadata": {
    "height": 64
   },
   "outputs": [
    {
     "name": "stderr",
     "output_type": "stream",
     "text": [
      "huggingface/tokenizers: The current process just got forked, after parallelism has already been used. Disabling parallelism to avoid deadlocks...\n",
      "To disable this warning, you can either:\n",
      "\t- Avoid using `tokenizers` before the fork if possible\n",
      "\t- Explicitly set the environment variable TOKENIZERS_PARALLELISM=(true | false)\n"
     ]
    },
    {
     "name": "stdout",
     "output_type": "stream",
     "text": [
      "1. What are the company's total revenues and net income for the year?\n",
      "2. How has the company's revenue grown or declined over the past few years?\n",
      "3. What is the company's debt levels and how have they changed over time?\n",
      "4. What is the company's operating margin and how does it compare to industry peers?\n",
      "5. What is the company's cash position and is it sufficient to cover short-term obligations?\n",
      "6. How has the company's inventory turnover ratio trended over the past few years?\n",
      "7. What is the company's return on equity and how does it compare to industry averages?\n",
      "8. What are the company's major sources of revenue and are they diversified?\n",
      "9. How has the company's earnings per share (EPS) changed over the past few years?\n",
      "10. What are the company's major expenses and have they been increasing or decreasing?\n",
      "11. What is the company's dividend policy and history of dividend payments?\n",
      "12. What are the company's major risks and how are they mitigating them?\n",
      "13. How much did the company spend on research and development (R&D) during the year?\n",
      "14. What is the company's market share in its industry and how has it changed over time?\n",
      "15. What are the company's long-term growth strategies and how do they plan to achieve them?\n"
     ]
    }
   ],
   "source": [
    "generated_queries = generate_queries()\n",
    "for query in generated_queries:\n",
    "    print(query)"
   ]
  },
  {
   "cell_type": "code",
   "execution_count": 8,
   "id": "377a84aa-1d93-4e97-9b2d-d59c46355338",
   "metadata": {
    "height": 62
   },
   "outputs": [],
   "source": [
    "results = chroma_collection.query(query_texts=generated_queries, n_results=10, include=['documents', 'embeddings'])\n",
    "retrieved_documents = results['documents']"
   ]
  },
  {
   "cell_type": "code",
   "execution_count": 13,
   "id": "472b564b",
   "metadata": {
    "height": 419
   },
   "outputs": [],
   "source": [
    "def evaluate_results(query, statement, model=\"gpt-3.5-turbo\"):\n",
    "    messages = [\n",
    "    {\n",
    "        \"role\": \"system\",\n",
    "        \"content\": \"You are a helpful expert financial research assistant. You help users analyze financial statements to better understand companies. \"\n",
    "        \"For the given query, evaluate whether the following satement is relevant.\"\n",
    "        \"Output only 'yes' or 'no'.\"\n",
    "    },\n",
    "    {\n",
    "        \"role\": \"user\",\n",
    "        \"content\": f\"Query: {query}, Statement: {statement}\"\n",
    "    }\n",
    "    ]\n",
    "\n",
    "    response = openai_client.chat.completions.create(\n",
    "        model=model,\n",
    "        messages=messages,\n",
    "        max_tokens=1\n",
    "    )\n",
    "    content = response.choices[0].message.content\n",
    "    if content == \"yes\":\n",
    "        return 1\n",
    "    return -1"
   ]
  },
  {
   "cell_type": "code",
   "execution_count": 12,
   "id": "93531bf3",
   "metadata": {
    "height": 64
   },
   "outputs": [],
   "source": [
    "adapter_query_embs = []\n",
    "adapter_doc_embs = []\n",
    "adapter_labels = []"
   ]
  },
  {
   "cell_type": "code",
   "execution_count": 14,
   "id": "8d2fd505",
   "metadata": {
    "height": 147
   },
   "outputs": [
    {
     "name": "stderr",
     "output_type": "stream",
     "text": [
      "  0%|          | 0/15 [00:00<?, ?it/s]\n",
      "  0%|          | 0/10 [00:00<?, ?it/s]\u001b[A\n",
      " 10%|█         | 1/10 [00:00<00:04,  2.18it/s]\u001b[A\n",
      " 20%|██        | 2/10 [00:00<00:02,  2.83it/s]\u001b[A\n",
      " 30%|███       | 3/10 [00:01<00:02,  3.02it/s]\u001b[A\n",
      " 40%|████      | 4/10 [00:01<00:01,  3.25it/s]\u001b[A\n",
      " 50%|█████     | 5/10 [00:01<00:01,  3.43it/s]\u001b[A\n",
      " 60%|██████    | 6/10 [00:01<00:01,  3.15it/s]\u001b[A\n",
      " 70%|███████   | 7/10 [00:02<00:00,  3.15it/s]\u001b[A\n",
      " 80%|████████  | 8/10 [00:02<00:00,  3.06it/s]\u001b[A\n",
      " 90%|█████████ | 9/10 [00:03<00:00,  1.87it/s]\u001b[A\n",
      "100%|██████████| 10/10 [00:04<00:00,  2.45it/s]\u001b[A\n",
      "  7%|▋         | 1/15 [00:04<00:57,  4.08s/it]\n",
      "  0%|          | 0/10 [00:00<?, ?it/s]\u001b[A\n",
      " 10%|█         | 1/10 [00:00<00:02,  3.07it/s]\u001b[A\n",
      " 20%|██        | 2/10 [00:00<00:02,  3.25it/s]\u001b[A\n",
      " 30%|███       | 3/10 [00:00<00:02,  2.96it/s]\u001b[A\n",
      " 40%|████      | 4/10 [00:01<00:02,  2.61it/s]\u001b[A\n",
      " 50%|█████     | 5/10 [00:01<00:01,  2.87it/s]\u001b[A\n",
      " 60%|██████    | 6/10 [00:02<00:01,  3.08it/s]\u001b[A\n",
      " 70%|███████   | 7/10 [00:02<00:01,  2.97it/s]\u001b[A\n",
      " 80%|████████  | 8/10 [00:02<00:00,  2.92it/s]\u001b[A\n",
      " 90%|█████████ | 9/10 [00:03<00:00,  2.94it/s]\u001b[A\n",
      "100%|██████████| 10/10 [00:03<00:00,  2.96it/s]\u001b[A\n",
      " 13%|█▎        | 2/15 [00:07<00:47,  3.67s/it]\n",
      "  0%|          | 0/10 [00:00<?, ?it/s]\u001b[A\n",
      " 10%|█         | 1/10 [00:00<00:03,  2.65it/s]\u001b[A\n",
      " 20%|██        | 2/10 [00:00<00:02,  2.87it/s]\u001b[A\n",
      " 30%|███       | 3/10 [00:01<00:02,  2.84it/s]\u001b[A\n",
      " 40%|████      | 4/10 [00:01<00:02,  2.50it/s]\u001b[A\n",
      " 50%|█████     | 5/10 [00:01<00:02,  2.50it/s]\u001b[A\n",
      " 60%|██████    | 6/10 [00:02<00:01,  2.61it/s]\u001b[A\n",
      " 70%|███████   | 7/10 [00:02<00:01,  2.62it/s]\u001b[A\n",
      " 80%|████████  | 8/10 [00:03<00:00,  2.67it/s]\u001b[A\n",
      " 90%|█████████ | 9/10 [00:03<00:00,  2.80it/s]\u001b[A\n",
      "100%|██████████| 10/10 [00:03<00:00,  2.69it/s]\u001b[A\n",
      " 20%|██        | 3/15 [00:11<00:44,  3.69s/it]\n",
      "  0%|          | 0/10 [00:00<?, ?it/s]\u001b[A\n",
      " 10%|█         | 1/10 [00:00<00:05,  1.52it/s]\u001b[A\n",
      " 20%|██        | 2/10 [00:00<00:03,  2.21it/s]\u001b[A\n",
      " 30%|███       | 3/10 [00:01<00:02,  2.49it/s]\u001b[A\n",
      " 40%|████      | 4/10 [00:01<00:02,  2.61it/s]\u001b[A\n",
      " 50%|█████     | 5/10 [00:01<00:01,  2.81it/s]\u001b[A\n",
      " 60%|██████    | 6/10 [00:02<00:01,  2.68it/s]\u001b[A\n",
      " 70%|███████   | 7/10 [00:02<00:01,  2.72it/s]\u001b[A\n",
      " 80%|████████  | 8/10 [00:03<00:00,  2.70it/s]\u001b[A\n",
      " 90%|█████████ | 9/10 [00:03<00:00,  2.90it/s]\u001b[A\n",
      "100%|██████████| 10/10 [00:03<00:00,  2.64it/s]\u001b[A\n",
      " 27%|██▋       | 4/15 [00:14<00:41,  3.73s/it]\n",
      "  0%|          | 0/10 [00:00<?, ?it/s]\u001b[A\n",
      " 10%|█         | 1/10 [00:00<00:02,  3.13it/s]\u001b[A\n",
      " 20%|██        | 2/10 [00:00<00:03,  2.45it/s]\u001b[A\n",
      " 30%|███       | 3/10 [00:01<00:02,  2.72it/s]\u001b[A\n",
      " 40%|████      | 4/10 [00:01<00:02,  2.55it/s]\u001b[A\n",
      " 50%|█████     | 5/10 [00:01<00:01,  2.74it/s]\u001b[A\n",
      " 60%|██████    | 6/10 [00:02<00:01,  2.95it/s]\u001b[A\n",
      " 70%|███████   | 7/10 [00:02<00:01,  2.88it/s]\u001b[A\n",
      " 80%|████████  | 8/10 [00:02<00:00,  2.67it/s]\u001b[A\n",
      " 90%|█████████ | 9/10 [00:03<00:00,  2.83it/s]\u001b[A\n",
      "100%|██████████| 10/10 [00:03<00:00,  2.77it/s]\u001b[A\n",
      " 33%|███▎      | 5/15 [00:18<00:36,  3.69s/it]\n",
      "  0%|          | 0/10 [00:00<?, ?it/s]\u001b[A\n",
      " 10%|█         | 1/10 [00:00<00:02,  3.02it/s]\u001b[A\n",
      " 20%|██        | 2/10 [00:00<00:03,  2.54it/s]\u001b[A\n",
      " 30%|███       | 3/10 [00:01<00:02,  2.41it/s]\u001b[A\n",
      " 40%|████      | 4/10 [00:01<00:02,  2.02it/s]\u001b[A\n",
      " 50%|█████     | 5/10 [00:02<00:03,  1.57it/s]\u001b[A\n",
      " 60%|██████    | 6/10 [00:03<00:02,  1.91it/s]\u001b[A\n",
      " 70%|███████   | 7/10 [00:04<00:02,  1.42it/s]\u001b[A\n",
      " 80%|████████  | 8/10 [00:04<00:01,  1.53it/s]\u001b[A\n",
      " 90%|█████████ | 9/10 [00:05<00:00,  1.71it/s]\u001b[A\n",
      "100%|██████████| 10/10 [00:05<00:00,  1.79it/s]\u001b[A\n",
      " 40%|████      | 6/15 [00:24<00:38,  4.33s/it]\n",
      "  0%|          | 0/10 [00:00<?, ?it/s]\u001b[A\n",
      " 10%|█         | 1/10 [00:00<00:03,  2.72it/s]\u001b[A\n",
      " 20%|██        | 2/10 [00:00<00:03,  2.28it/s]\u001b[A\n",
      " 30%|███       | 3/10 [00:01<00:03,  2.31it/s]\u001b[A\n",
      " 40%|████      | 4/10 [00:01<00:02,  2.26it/s]\u001b[A\n",
      " 50%|█████     | 5/10 [00:02<00:01,  2.53it/s]\u001b[A\n",
      " 60%|██████    | 6/10 [00:02<00:01,  2.15it/s]\u001b[A\n",
      " 70%|███████   | 7/10 [00:03<00:01,  2.32it/s]\u001b[A\n",
      " 80%|████████  | 8/10 [00:03<00:00,  2.47it/s]\u001b[A\n",
      " 90%|█████████ | 9/10 [00:03<00:00,  2.46it/s]\u001b[A\n",
      "100%|██████████| 10/10 [00:04<00:00,  2.41it/s]\u001b[A\n",
      " 47%|████▋     | 7/15 [00:28<00:34,  4.27s/it]\n",
      "  0%|          | 0/10 [00:00<?, ?it/s]\u001b[A\n",
      " 10%|█         | 1/10 [00:00<00:05,  1.50it/s]\u001b[A\n",
      " 20%|██        | 2/10 [00:01<00:04,  1.98it/s]\u001b[A\n",
      " 30%|███       | 3/10 [00:01<00:03,  2.21it/s]\u001b[A\n",
      " 40%|████      | 4/10 [00:01<00:02,  2.28it/s]\u001b[A\n",
      " 50%|█████     | 5/10 [00:02<00:02,  2.33it/s]\u001b[A\n",
      " 60%|██████    | 6/10 [00:03<00:02,  1.76it/s]\u001b[A\n",
      " 70%|███████   | 7/10 [00:03<00:01,  2.06it/s]\u001b[A\n",
      " 80%|████████  | 8/10 [00:03<00:00,  2.03it/s]\u001b[A\n",
      " 90%|█████████ | 9/10 [00:04<00:00,  2.26it/s]\u001b[A\n",
      "100%|██████████| 10/10 [00:04<00:00,  2.14it/s]\u001b[A\n",
      " 53%|█████▎    | 8/15 [00:32<00:30,  4.40s/it]\n",
      "  0%|          | 0/10 [00:00<?, ?it/s]\u001b[A\n",
      " 10%|█         | 1/10 [00:00<00:05,  1.74it/s]\u001b[A\n",
      " 20%|██        | 2/10 [00:01<00:05,  1.55it/s]\u001b[A\n",
      " 30%|███       | 3/10 [00:01<00:03,  1.79it/s]\u001b[A\n",
      " 40%|████      | 4/10 [00:02<00:03,  1.97it/s]\u001b[A\n",
      " 50%|█████     | 5/10 [00:02<00:02,  2.20it/s]\u001b[A\n",
      " 60%|██████    | 6/10 [00:02<00:01,  2.41it/s]\u001b[A\n",
      " 70%|███████   | 7/10 [00:03<00:01,  2.28it/s]\u001b[A\n",
      " 80%|████████  | 8/10 [00:03<00:00,  2.23it/s]\u001b[A\n",
      " 90%|█████████ | 9/10 [00:04<00:00,  2.46it/s]\u001b[A\n",
      "100%|██████████| 10/10 [00:04<00:00,  2.21it/s]\u001b[A\n",
      " 60%|██████    | 9/15 [00:37<00:26,  4.44s/it]\n",
      "  0%|          | 0/10 [00:00<?, ?it/s]\u001b[A\n",
      " 10%|█         | 1/10 [00:00<00:02,  3.44it/s]\u001b[A\n",
      " 20%|██        | 2/10 [00:00<00:02,  3.37it/s]\u001b[A\n",
      " 30%|███       | 3/10 [00:00<00:02,  3.08it/s]\u001b[A\n",
      " 40%|████      | 4/10 [00:01<00:01,  3.15it/s]\u001b[A\n",
      " 50%|█████     | 5/10 [00:01<00:01,  3.30it/s]\u001b[A\n",
      " 60%|██████    | 6/10 [00:01<00:01,  3.26it/s]\u001b[A\n",
      " 70%|███████   | 7/10 [00:02<00:00,  3.05it/s]\u001b[A\n",
      " 80%|████████  | 8/10 [00:02<00:00,  2.83it/s]\u001b[A\n",
      " 90%|█████████ | 9/10 [00:02<00:00,  2.96it/s]\u001b[A\n",
      "100%|██████████| 10/10 [00:03<00:00,  2.93it/s]\u001b[A\n",
      " 67%|██████▋   | 10/15 [00:40<00:20,  4.12s/it]\n",
      "  0%|          | 0/10 [00:00<?, ?it/s]\u001b[A\n",
      " 10%|█         | 1/10 [00:00<00:04,  2.06it/s]\u001b[A\n",
      " 20%|██        | 2/10 [00:00<00:03,  2.05it/s]\u001b[A\n",
      " 30%|███       | 3/10 [00:02<00:05,  1.27it/s]\u001b[A\n",
      " 40%|████      | 4/10 [00:02<00:03,  1.62it/s]\u001b[A\n",
      " 50%|█████     | 5/10 [00:02<00:02,  1.88it/s]\u001b[A\n",
      " 60%|██████    | 6/10 [00:03<00:01,  2.20it/s]\u001b[A\n",
      " 70%|███████   | 7/10 [00:03<00:01,  2.50it/s]\u001b[A\n",
      " 80%|████████  | 8/10 [00:03<00:00,  2.79it/s]\u001b[A\n",
      " 90%|█████████ | 9/10 [00:04<00:00,  2.89it/s]\u001b[A\n",
      "100%|██████████| 10/10 [00:04<00:00,  2.23it/s]\u001b[A\n",
      " 73%|███████▎  | 11/15 [00:45<00:16,  4.23s/it]\n",
      "  0%|          | 0/10 [00:00<?, ?it/s]\u001b[A\n",
      " 10%|█         | 1/10 [00:00<00:02,  3.17it/s]\u001b[A\n",
      " 20%|██        | 2/10 [00:00<00:02,  2.99it/s]\u001b[A\n",
      " 30%|███       | 3/10 [00:01<00:02,  2.40it/s]\u001b[A\n",
      " 40%|████      | 4/10 [00:01<00:02,  2.76it/s]\u001b[A\n",
      " 50%|█████     | 5/10 [00:01<00:02,  2.49it/s]\u001b[A\n",
      " 60%|██████    | 6/10 [00:02<00:01,  2.71it/s]\u001b[A\n",
      " 70%|███████   | 7/10 [00:02<00:01,  2.81it/s]\u001b[A\n",
      " 80%|████████  | 8/10 [00:03<00:00,  2.19it/s]\u001b[A\n",
      " 90%|█████████ | 9/10 [00:03<00:00,  2.21it/s]\u001b[A\n",
      "100%|██████████| 10/10 [00:04<00:00,  2.48it/s]\u001b[A\n",
      " 80%|████████  | 12/15 [00:49<00:12,  4.17s/it]\n",
      "  0%|          | 0/10 [00:00<?, ?it/s]\u001b[A\n",
      " 10%|█         | 1/10 [00:00<00:03,  2.69it/s]\u001b[A\n",
      " 20%|██        | 2/10 [00:00<00:03,  2.46it/s]\u001b[A\n",
      " 30%|███       | 3/10 [00:01<00:02,  2.73it/s]\u001b[A\n",
      " 40%|████      | 4/10 [00:01<00:02,  2.91it/s]\u001b[A\n",
      " 50%|█████     | 5/10 [00:01<00:01,  3.02it/s]\u001b[A\n",
      " 60%|██████    | 6/10 [00:02<00:01,  2.44it/s]\u001b[A\n",
      " 70%|███████   | 7/10 [00:02<00:01,  2.28it/s]\u001b[A\n",
      " 80%|████████  | 8/10 [00:03<00:00,  2.14it/s]\u001b[A\n",
      " 90%|█████████ | 9/10 [00:03<00:00,  1.90it/s]\u001b[A\n",
      "100%|██████████| 10/10 [00:04<00:00,  2.31it/s]\u001b[A\n",
      " 87%|████████▋ | 13/15 [00:53<00:08,  4.22s/it]\n",
      "  0%|          | 0/10 [00:00<?, ?it/s]\u001b[A\n",
      " 10%|█         | 1/10 [00:00<00:02,  3.05it/s]\u001b[A\n",
      " 20%|██        | 2/10 [00:00<00:02,  2.84it/s]\u001b[A\n",
      " 30%|███       | 3/10 [00:01<00:02,  2.54it/s]\u001b[A\n",
      " 40%|████      | 4/10 [00:01<00:02,  2.35it/s]\u001b[A\n",
      " 50%|█████     | 5/10 [00:01<00:01,  2.70it/s]\u001b[A\n",
      " 60%|██████    | 6/10 [00:02<00:01,  2.83it/s]\u001b[A\n",
      " 70%|███████   | 7/10 [00:02<00:01,  2.43it/s]\u001b[A\n",
      " 80%|████████  | 8/10 [00:03<00:00,  2.68it/s]\u001b[A\n",
      " 90%|█████████ | 9/10 [00:03<00:00,  2.65it/s]\u001b[A\n",
      "100%|██████████| 10/10 [00:03<00:00,  2.50it/s]\u001b[A\n",
      " 93%|█████████▎| 14/15 [00:57<00:04,  4.15s/it]\n",
      "  0%|          | 0/10 [00:00<?, ?it/s]\u001b[A\n",
      " 10%|█         | 1/10 [00:00<00:03,  2.70it/s]\u001b[A\n",
      " 20%|██        | 2/10 [00:00<00:03,  2.41it/s]\u001b[A\n",
      " 30%|███       | 3/10 [00:01<00:02,  2.46it/s]\u001b[A\n",
      " 40%|████      | 4/10 [00:01<00:02,  2.67it/s]\u001b[A\n",
      " 50%|█████     | 5/10 [00:02<00:02,  2.41it/s]\u001b[A\n",
      " 60%|██████    | 6/10 [00:02<00:01,  2.65it/s]\u001b[A\n",
      " 70%|███████   | 7/10 [00:02<00:01,  2.35it/s]\u001b[A\n",
      " 80%|████████  | 8/10 [00:03<00:00,  2.28it/s]\u001b[A\n",
      " 90%|█████████ | 9/10 [00:03<00:00,  2.47it/s]\u001b[A\n",
      "100%|██████████| 10/10 [00:04<00:00,  2.48it/s]\u001b[A\n",
      "100%|██████████| 15/15 [01:01<00:00,  4.12s/it]\n"
     ]
    }
   ],
   "source": [
    "retrieved_embs = results['embeddings']\n",
    "query_embs = embedding_function(generated_queries)\n",
    "for i,query in enumerate(tqdm(generated_queries)):\n",
    "    for j,doc in enumerate(tqdm(retrieved_documents[i])):\n",
    "        adapter_query_embs.append(query_embs[i])\n",
    "        adapter_doc_embs.append(retrieved_embs[i][j])\n",
    "        adapter_labels.append(evaluate_results(query,doc))"
   ]
  },
  {
   "cell_type": "code",
   "execution_count": 28,
   "id": "ca0429c4",
   "metadata": {
    "height": 79
   },
   "outputs": [],
   "source": [
    "adapter_query_embeddings = torch.Tensor(np.array(adapter_query_embs))\n",
    "adapter_doc_embeddings = torch.Tensor(np.array(adapter_doc_embs))\n",
    "adapter_labels = torch.Tensor(np.expand_dims(np.array(adapter_labels),1))"
   ]
  },
  {
   "cell_type": "code",
   "execution_count": 29,
   "id": "60a9524b-1085-4bdf-a161-39f11397dc1f",
   "metadata": {
    "height": 45
   },
   "outputs": [],
   "source": [
    "dataset = torch.utils.data.TensorDataset(adapter_query_embeddings, adapter_doc_embeddings, adapter_labels)"
   ]
  },
  {
   "cell_type": "markdown",
   "id": "bdac56f2-b98c-46ab-9cc4-248b79177ef8",
   "metadata": {},
   "source": [
    "## Setting up the model"
   ]
  },
  {
   "cell_type": "code",
   "execution_count": 30,
   "id": "7b26a01a-4575-446b-b8dc-a8c5ab153172",
   "metadata": {
    "height": 96
   },
   "outputs": [],
   "source": [
    "def model(query_embedding, document_embedding, adaptor_matrix):\n",
    "    updated_query_embedding = torch.matmul(adaptor_matrix, query_embedding)\n",
    "    return torch.cosine_similarity(updated_query_embedding, document_embedding, dim=0)\n"
   ]
  },
  {
   "cell_type": "code",
   "execution_count": 31,
   "id": "0950575b-b69d-46a3-8c91-c7af89f5c204",
   "metadata": {
    "height": 62
   },
   "outputs": [],
   "source": [
    "def mse_loss(query_embedding, document_embedding, adaptor_matrix, label):\n",
    "    return torch.nn.MSELoss()(model(query_embedding, document_embedding, adaptor_matrix), label)"
   ]
  },
  {
   "cell_type": "code",
   "execution_count": 32,
   "id": "3f123ad8-b2e8-4a25-8b42-a520ecaf566b",
   "metadata": {
    "height": 79
   },
   "outputs": [],
   "source": [
    "# Initialize the adaptor matrix\n",
    "mat_size = len(adapter_query_embeddings[0])\n",
    "adapter_matrix = torch.randn(mat_size, mat_size, requires_grad=True)"
   ]
  },
  {
   "cell_type": "code",
   "execution_count": 33,
   "id": "83c04587-d1de-419c-a213-2e3eb67dc33d",
   "metadata": {
    "height": 300
   },
   "outputs": [
    {
     "name": "stderr",
     "output_type": "stream",
     "text": [
      "  0%|          | 0/100 [00:00<?, ?it/s]/usr/local/lib/python3.9/site-packages/torch/nn/modules/loss.py:538: UserWarning: Using a target size (torch.Size([1])) that is different to the input size (torch.Size([])). This will likely lead to incorrect results due to broadcasting. Please ensure they have the same size.\n",
      "  return F.mse_loss(input, target, reduction=self.reduction)\n",
      "100%|██████████| 100/100 [00:03<00:00, 33.05it/s]\n"
     ]
    }
   ],
   "source": [
    "min_loss = float('inf')\n",
    "best_matrix = None\n",
    "\n",
    "for epoch in tqdm(range(100)):\n",
    "    for query_embedding, document_embedding, label in dataset:\n",
    "        loss = mse_loss(query_embedding, document_embedding, adapter_matrix, label)\n",
    "\n",
    "        if loss < min_loss:\n",
    "            min_loss = loss\n",
    "            best_matrix = adapter_matrix.clone().detach().numpy()\n",
    "\n",
    "        loss.backward()\n",
    "        with torch.no_grad():\n",
    "            adapter_matrix -= 0.01 * adapter_matrix.grad\n",
    "            adapter_matrix.grad.zero_()\n",
    "        "
   ]
  },
  {
   "cell_type": "code",
   "execution_count": 34,
   "id": "d3155972-824e-4ebe-a692-2227c113c5a8",
   "metadata": {
    "height": 30
   },
   "outputs": [
    {
     "name": "stdout",
     "output_type": "stream",
     "text": [
      "Best loss: 0.5302515029907227\n"
     ]
    }
   ],
   "source": [
    "print(f\"Best loss: {min_loss.detach().numpy()}\")"
   ]
  },
  {
   "cell_type": "code",
   "execution_count": 35,
   "id": "d8144a4a-85f6-4800-87f9-36a1b6ceda1f",
   "metadata": {
    "height": 62
   },
   "outputs": [],
   "source": [
    "test_vector = torch.ones((mat_size,1))\n",
    "scaled_vector = np.matmul(best_matrix, test_vector).numpy()"
   ]
  },
  {
   "cell_type": "code",
   "execution_count": 36,
   "id": "8ff0b18e-12a0-4ac0-97dd-8618b22e7dbf",
   "metadata": {
    "height": 96
   },
   "outputs": [
    {
     "name": "stderr",
     "output_type": "stream",
     "text": [
      "huggingface/tokenizers: The current process just got forked, after parallelism has already been used. Disabling parallelism to avoid deadlocks...\n",
      "To disable this warning, you can either:\n",
      "\t- Avoid using `tokenizers` before the fork if possible\n",
      "\t- Explicitly set the environment variable TOKENIZERS_PARALLELISM=(true | false)\n"
     ]
    },
    {
     "data": {
      "image/png": "[encoded data removed]",
      "text/plain": [
       "<Figure size 640x480 with 1 Axes>"
      ]
     },
     "metadata": {},
     "output_type": "display_data"
    }
   ],
   "source": [
    "import matplotlib.pyplot as plt\n",
    "plt.bar(range(len(scaled_vector)), scaled_vector.flatten())\n",
    "plt.show()\n"
   ]
  },
  {
   "cell_type": "code",
   "execution_count": 37,
   "id": "03ca7e7c-4b47-4652-9b46-a40b3dffa5e6",
   "metadata": {
    "height": 113
   },
   "outputs": [
    {
     "name": "stderr",
     "output_type": "stream",
     "text": [
      "100%|██████████| 15/15 [00:08<00:00,  1.86it/s]\n",
      "100%|██████████| 15/15 [00:08<00:00,  1.86it/s]\n"
     ]
    }
   ],
   "source": [
    "query_embeddings = embedding_function(generated_queries)\n",
    "adapted_query_embeddings = np.matmul(best_matrix, np.array(query_embeddings).T).T\n",
    "\n",
    "projected_query_embeddings = project_embeddings(query_embeddings, umap_transform)\n",
    "projected_adapted_query_embeddings = project_embeddings(adapted_query_embeddings, umap_transform)"
   ]
  },
  {
   "cell_type": "code",
   "execution_count": 38,
   "id": "f74e7d67-7f51-41c4-8e25-edbaa02d0bd8",
   "metadata": {
    "height": 198
   },
   "outputs": [
    {
     "data": {
      "text/plain": [
       "<matplotlib.legend.Legend at 0x7f0c4d092580>"
      ]
     },
     "execution_count": 38,
     "metadata": {},
     "output_type": "execute_result"
    },
    {
     "data": {
      "image/png": "[encoded data removed]",
      "text/plain": [
       "<Figure size 640x480 with 1 Axes>"
      ]
     },
     "metadata": {},
     "output_type": "display_data"
    }
   ],
   "source": [
    "# Plot the projected query and retrieved documents in the embedding space\n",
    "plt.figure()\n",
    "plt.scatter(projected_dataset_embeddings[:, 0], projected_dataset_embeddings[:, 1], s=10, color='gray')\n",
    "plt.scatter(projected_query_embeddings[:, 0], projected_query_embeddings[:, 1], s=150, marker='X', color='r', label=\"original\")\n",
    "plt.scatter(projected_adapted_query_embeddings[:, 0], projected_adapted_query_embeddings[:, 1], s=150, marker='X', color='green', label=\"adapted\")\n",
    "\n",
    "plt.gca().set_aspect('equal', 'datalim')\n",
    "plt.title(\"Adapted Queries\")\n",
    "plt.axis('off')\n",
    "plt.legend()"
   ]
  },
  {
   "cell_type": "code",
   "execution_count": null,
   "id": "9188e886-d406-406f-b234-f5c3353a77a2",
   "metadata": {
    "height": 30
   },
   "outputs": [],
   "source": []
  },
  {
   "cell_type": "code",
   "execution_count": null,
   "id": "3d3bb286-2694-4ed4-8466-46865e997ced",
   "metadata": {
    "height": 30
   },
   "outputs": [],
   "source": []
  },
  {
   "cell_type": "code",
   "execution_count": null,
   "id": "2876084b-4038-4b0c-8ec8-8294a86adfc1",
   "metadata": {
    "height": 30
   },
   "outputs": [],
   "source": []
  },
  {
   "cell_type": "code",
   "execution_count": null,
   "id": "3ac542e1-b094-431f-9611-cf7e36d3f0de",
   "metadata": {
    "height": 30
   },
   "outputs": [],
   "source": []
  },
  {
   "cell_type": "code",
   "execution_count": null,
   "id": "bcd6114b-c09d-4173-a623-9a08aaf63e4b",
   "metadata": {
    "height": 30
   },
   "outputs": [],
   "source": []
  },
  {
   "cell_type": "code",
   "execution_count": null,
   "id": "ad10ab65-b351-4f4b-b7d2-63474acfb9f9",
   "metadata": {
    "height": 30
   },
   "outputs": [],
   "source": []
  },
  {
   "cell_type": "code",
   "execution_count": null,
   "id": "800f3d81-cbdb-4ba4-8d49-85747fdfded8",
   "metadata": {
    "height": 30
   },
   "outputs": [],
   "source": []
  },
  {
   "cell_type": "code",
   "execution_count": null,
   "id": "37847448-c9f6-4f51-bf06-f7809964a8b2",
   "metadata": {
    "height": 30
   },
   "outputs": [],
   "source": []
  },
  {
   "cell_type": "code",
   "execution_count": null,
   "id": "2dcefc87-0964-4b94-946b-2145781ad606",
   "metadata": {
    "height": 30
   },
   "outputs": [],
   "source": []
  },
  {
   "cell_type": "code",
   "execution_count": null,
   "id": "5fc994bc-7b1e-476a-9df9-300a3e374882",
   "metadata": {
    "height": 30
   },
   "outputs": [],
   "source": []
  },
  {
   "cell_type": "code",
   "execution_count": null,
   "id": "9ef5f5d5-acb7-4b0a-93ef-e61306708e69",
   "metadata": {
    "height": 30
   },
   "outputs": [],
   "source": []
  },
  {
   "cell_type": "code",
   "execution_count": null,
   "id": "44e4b33f-d8fb-4f3a-b884-8b43a3766583",
   "metadata": {
    "height": 30
   },
   "outputs": [],
   "source": []
  },
  {
   "cell_type": "code",
   "execution_count": null,
   "id": "c2a480a2-2c29-4a01-80dd-ee41934b7901",
   "metadata": {
    "height": 30
   },
   "outputs": [],
   "source": []
  },
  {
   "cell_type": "code",
   "execution_count": null,
   "id": "8127c2bf-0d15-4b62-b46a-f7a17ad2ec92",
   "metadata": {
    "height": 30
   },
   "outputs": [],
   "source": []
  },
  {
   "cell_type": "code",
   "execution_count": null,
   "id": "18ded129-a637-4269-a116-550fe9a90570",
   "metadata": {
    "height": 30
   },
   "outputs": [],
   "source": []
  },
  {
   "cell_type": "code",
   "execution_count": null,
   "id": "c1d7ee44-7b29-483f-a3f2-cc9d8e18880e",
   "metadata": {
    "height": 30
   },
   "outputs": [],
   "source": []
  },
  {
   "cell_type": "code",
   "execution_count": null,
   "id": "8e450dd8-9719-42c6-8c3c-33cac910e0a5",
   "metadata": {
    "height": 30
   },
   "outputs": [],
   "source": []
  }
 ],
 "metadata": {
  "kernelspec": {
   "display_name": "Python 3 (ipykernel)",
   "language": "python",
   "name": "python3"
  },
  "language_info": {
   "codemirror_mode": {
    "name": "ipython",
    "version": 3
   },
   "file_extension": ".py",
   "mimetype": "text/x-python",
   "name": "python",
   "nbconvert_exporter": "python",
   "pygments_lexer": "ipython3",
   "version": "3.9.19"
  }
 },
 "nbformat": 4,
 "nbformat_minor": 5
}
